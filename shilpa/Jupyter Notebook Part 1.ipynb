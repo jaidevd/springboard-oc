{
 "cells": [
  {
   "cell_type": "markdown",
   "metadata": {},
   "source": [
    "# 1. Jupyter Interface \n",
    "\n",
    "While most menus in the Jupyter notebook interface may look familiar as a word-processing program, two of them might be new: cell and kernel. Let's look at what they are. \n",
    "\n",
    "A cell is a container for text to be displayed in the notebook or code to be executed. There are two types of cells: markdown cells and code cells."
   ]
  },
  {
   "cell_type": "markdown",
   "metadata": {},
   "source": [
    "## 1.1 Markdown cells\n",
    "Markdown is a lightweight, easy to learn markup language (similar to HTML) for formatting plain text. A Markdown cell contains text formatted using Markdown and displays its output *in-place* when it is run.\n",
    "\n",
    "1. You can add headings by starting a line with one (or multiple) # followed by a space, as in the following example:\n",
    "2. Use *to create italic font*.\n",
    "3. Use **to create bold font**\n",
    "\n",
    "### Example: My First Jupyter Notework\n",
    "Hello world!\n",
    "*italic font*. Note that there is no space after * or **\n",
    "**bold font**\n",
    "\n",
    "List or numbered list (there needs to be a space after * for lists)\n",
    "* Sometimes we want to include lists.\n",
    "* Which can be indented.\n",
    "\n",
    "\n",
    "1. Numbered list.\n",
    "2. Numbered list again.\n",
    "\n",
    "\n",
    "To include inline python code in markdown cells and highlight it, uses single backticks. It will have the effect of shading around the code\n",
    "\n",
    "`print(\"Python\")`\n",
    "\n",
    "`import numpy as np`\n",
    "\n",
    "If it is a block of codes, use triple backticks:\n",
    "```\n",
    "x = np.random.randint(1, 10)\n",
    "y = square(x)\n",
    "print('%d squared is %d' % (x, y))\n",
    "```\n",
    "\n",
    "\n"
   ]
  },
  {
   "cell_type": "markdown",
   "metadata": {},
   "source": [
    "## 1.2. Code Cells\n",
    "A code cell contains code to be executed in the kernel and displays its output below. The first cell in a new notebook is always a code cell. \n",
    "\n",
    "After writing your code, click the run button in the toolbar above or press Ctrl + Enter to run the cell."
   ]
  },
  {
   "cell_type": "markdown",
   "metadata": {},
   "source": [
    "## 1.3. Kernel\n",
    "To interrupt a calculation which is taking too long, use the Kernel, Interrupt menu option.\n",
    "\n",
    "Restart: restarts the kernel, thus clearing all the variables etc that were defined.\n",
    "\n",
    "Restart & Clear Output: same as above but will also wipe the output displayed below your code cells.\n",
    "\n",
    "Restart & Run All: same as above but will also run all your cells in order from first to last."
   ]
  },
  {
   "cell_type": "markdown",
   "metadata": {},
   "source": [
    "## 1.4. Save and Exist a Notebook\n",
    "Pressing Ctrl + S will save your notebook, or click the “Save and Checkpoint” command under the \"File\" tab in the menu.\n",
    "\n",
    "Select “File > Close and Halt” from the \"File\" tab in the menu to close a notebook.\n",
    "\n",
    "add my own notes....."
   ]
  },
  {
   "cell_type": "markdown",
   "metadata": {},
   "source": [
    "## 1.5 Some Keyboard Shortcuts\n",
    "\n",
    "* Run a cell with Ctrl + Enter\n",
    "* Run a cell and add a cell below with Alt + Enter\n",
    "* Toggle between edit and command mode with Esc and Enter, respectively.\n",
    "\n",
    "Once in command mode:\n",
    "* Scroll up and down your cells with your Up and Down keys.\n",
    "* Press A or B to insert a new cell above or below the active cell.\n",
    "* M will transform the active cell to a Markdown cell.\n",
    "* Y will set the active cell to a code cell.\n",
    "* D + D (D twice) will delete the active cell.\n",
    "* Z will undo cell deletion.\n",
    "* Hold Shift and press Up or Down to select multiple cells at once.\n",
    "* With multiple cells selected, Shift + M will merge your selection.\n",
    "\n",
    "* Ctrl + Shift + -, in edit mode, will split the active cell at the cursor."
   ]
  },
  {
   "cell_type": "markdown",
   "metadata": {},
   "source": [
    "# 2. Simple Data Types"
   ]
  },
  {
   "cell_type": "markdown",
   "metadata": {},
   "source": [
    "## 2.1. Integer, Float and String\n",
    "1. **integer**, python type name: **int**,  e.g., 10\n",
    "2. **floating point numbers**, python type name: **float**, e.g., 4.2\n",
    "3. **strings**, python type name: **str**, e.g., 'book', \"Hello World!\".\n",
    "   \n",
    "Tips about strings:\n",
    "a. If you want to include either single quotes or double quotes within the string, the simplest way is to delimit the string with the other type.\n",
    "\n",
    "b. Enclose string literals in triple quotes (either \"\"\" or '''). Triple-quoted strings can contain both single quotes and double quotes as part of the string. "
   ]
  },
  {
   "cell_type": "markdown",
   "metadata": {},
   "source": [
    "## 2.2. Basic Data Operations and Functions \n",
    "\n",
    "+: addition, -: subtraction, * : multiplication, /: division <br>\n",
    "//: integer devision. Divides one number by another and gives the result as a whole number <br>\n",
    "%: remainder. Divides one number by another and gives the remainder <br>\n",
    "** : Exponent. Raises a number to a power\n",
    "\n",
    "`print()`: print nummbers or strings <br>\n",
    "`type()`: show the type of a data value  <br>\n",
    "`int()`: Returns the integer object from a float or a string containing digits.<br>\n",
    "`str()`: Return the string object from another type of data\n",
    "`float()`: Returns a floating-point number object from a number or string containing digits with decimal point or scientific notation. <br>\n",
    "`abs()`: Returns the absolute value of a number without considering its sign.\n",
    "`round()`: Returns the rounded number."
   ]
  },
  {
   "cell_type": "code",
   "execution_count": 1,
   "metadata": {},
   "outputs": [
    {
     "data": {
      "text/plain": [
       "36"
      ]
     },
     "execution_count": 1,
     "metadata": {},
     "output_type": "execute_result"
    }
   ],
   "source": [
    "4*9"
   ]
  },
  {
   "cell_type": "code",
   "execution_count": 2,
   "metadata": {},
   "outputs": [
    {
     "data": {
      "text/plain": [
       "3.3333333333333335"
      ]
     },
     "execution_count": 2,
     "metadata": {},
     "output_type": "execute_result"
    }
   ],
   "source": [
    "10/3"
   ]
  },
  {
   "cell_type": "code",
   "execution_count": 3,
   "metadata": {},
   "outputs": [
    {
     "data": {
      "text/plain": [
       "3"
      ]
     },
     "execution_count": 3,
     "metadata": {},
     "output_type": "execute_result"
    }
   ],
   "source": [
    "10//3"
   ]
  },
  {
   "cell_type": "code",
   "execution_count": 4,
   "metadata": {},
   "outputs": [
    {
     "data": {
      "text/plain": [
       "int"
      ]
     },
     "execution_count": 4,
     "metadata": {},
     "output_type": "execute_result"
    }
   ],
   "source": [
    "type(9)"
   ]
  },
  {
   "cell_type": "code",
   "execution_count": 7,
   "metadata": {},
   "outputs": [
    {
     "data": {
      "text/plain": [
       "4"
      ]
     },
     "execution_count": 7,
     "metadata": {},
     "output_type": "execute_result"
    }
   ],
   "source": [
    "int(4.6)"
   ]
  },
  {
   "cell_type": "code",
   "execution_count": 8,
   "metadata": {},
   "outputs": [
    {
     "data": {
      "text/plain": [
       "5"
      ]
     },
     "execution_count": 8,
     "metadata": {},
     "output_type": "execute_result"
    }
   ],
   "source": [
    "round(4.6)"
   ]
  },
  {
   "cell_type": "code",
   "execution_count": 9,
   "metadata": {},
   "outputs": [
    {
     "data": {
      "text/plain": [
       "4.5"
      ]
     },
     "execution_count": 9,
     "metadata": {},
     "output_type": "execute_result"
    }
   ],
   "source": [
    "#this cell execute the absolution function\n",
    "abs(-4.5)"
   ]
  },
  {
   "cell_type": "markdown",
   "metadata": {},
   "source": [
    "# 3. Programming Basics"
   ]
  },
  {
   "cell_type": "markdown",
   "metadata": {},
   "source": [
    "## 3.1. Comments \n",
    "Comments are short notes placed in different parts of a program, explaining how those parts of the program work. They are ignored by the Python interpreter. "
   ]
  },
  {
   "cell_type": "markdown",
   "metadata": {},
   "source": [
    "## 3.2. Variables\n",
    "A variable is a name that represents a value stored in the computer’s memory. \n",
    "\n",
    "Variable Naming Rules:<br>\n",
    " 1. You cannot use one of Python’s key words as a variable name. \n",
    " 2. A variable name cannot contain spaces.\n",
    " 3. The first character must be one of the letters a through z, A through Z, or an underscore character (_). The following characters can be numbers\n",
    " 4. Case sensitive: ItemsOrdered is not the same as itemsordered.\n",
    " 5. Common to use underscore to represent a space: warehouse_space, WarehouseSpace, supplier_capacity\n"
   ]
  },
  {
   "cell_type": "code",
   "execution_count": 10,
   "metadata": {},
   "outputs": [],
   "source": [
    "age = 25"
   ]
  },
  {
   "cell_type": "code",
   "execution_count": 13,
   "metadata": {},
   "outputs": [
    {
     "data": {
      "text/plain": [
       "float"
      ]
     },
     "execution_count": 13,
     "metadata": {},
     "output_type": "execute_result"
    }
   ],
   "source": [
    "type(age)"
   ]
  },
  {
   "cell_type": "code",
   "execution_count": 12,
   "metadata": {},
   "outputs": [],
   "source": [
    "age=25.6"
   ]
  },
  {
   "cell_type": "code",
   "execution_count": 15,
   "metadata": {},
   "outputs": [
    {
     "data": {
      "text/plain": [
       "31.6"
      ]
     },
     "execution_count": 15,
     "metadata": {},
     "output_type": "execute_result"
    }
   ],
   "source": [
    "age = age + 3\n",
    "age"
   ]
  },
  {
   "cell_type": "markdown",
   "metadata": {},
   "source": [
    "## 3.3. Input \n",
    "The built-in function `input()` reads data that has been typed on the keyboard. Usually it stores that data in a variable so it can be used later by the program.\n"
   ]
  },
  {
   "cell_type": "code",
   "execution_count": 16,
   "metadata": {},
   "outputs": [
    {
     "name": "stdout",
     "output_type": "stream",
     "text": [
      "Type your name:Min\n"
     ]
    }
   ],
   "source": [
    "name = input(\"Type your name:\")"
   ]
  },
  {
   "cell_type": "code",
   "execution_count": 17,
   "metadata": {},
   "outputs": [
    {
     "data": {
      "text/plain": [
       "'Min'"
      ]
     },
     "execution_count": 17,
     "metadata": {},
     "output_type": "execute_result"
    }
   ],
   "source": [
    "name"
   ]
  },
  {
   "cell_type": "code",
   "execution_count": 18,
   "metadata": {},
   "outputs": [
    {
     "name": "stdout",
     "output_type": "stream",
     "text": [
      "My name is Min\n"
     ]
    }
   ],
   "source": [
    "print('My name is', name)"
   ]
  },
  {
   "cell_type": "markdown",
   "metadata": {},
   "source": [
    "## 3.4. Output\n",
    "Below are a list of formats you can use with `print()`.\n",
    "* Python’s `print()` function comes with a parameter called ‘end’. By default, the value of this parameter is ‘\\n’, i.e. the new line character. You can end a print statement with any character/string using this parameter.\n",
    "*  \\n Causes output to be advanced to the next line.\n",
    "*  \\t Causes output to skip over to the next horizontal tab position.\n",
    "* `\\\\` Print a backslash character \n",
    "* %: special operator to format string output. The syntax is \n",
    "```<format_string that includes %<format specifier>>  %<values>```. Thus, it takes two operands: a specific format and a value. \n",
    "    * %s Converts to a string using the str() function\n",
    "    * %e Converts to a floating point in exponential notation\n",
    "    * %f Converts to a floating point in fixed-decimal notation\n",
    "    * %. a dot (.) followed by a positive integer specifying the precision. \n",
    "    * %% print the % character\n",
    "    * `%<integer><format>` specifies the width for the value by adding spaces before (if the width integer is positive) or after (if the width integer is negative)\n",
    "   \n"
   ]
  },
  {
   "cell_type": "code",
   "execution_count": 23,
   "metadata": {},
   "outputs": [
    {
     "data": {
      "text/plain": [
       "2"
      ]
     },
     "execution_count": 23,
     "metadata": {},
     "output_type": "execute_result"
    }
   ],
   "source": [
    "11%3"
   ]
  },
  {
   "cell_type": "code",
   "execution_count": 24,
   "metadata": {
    "scrolled": true
   },
   "outputs": [
    {
     "name": "stdout",
     "output_type": "stream",
     "text": [
      "4.500000e+05 is a large number\n"
     ]
    }
   ],
   "source": [
    "LargeNumber = 450000\n",
    "print('%e is a large number'%LargeNumber)"
   ]
  },
  {
   "cell_type": "code",
   "execution_count": 25,
   "metadata": {},
   "outputs": [
    {
     "name": "stdout",
     "output_type": "stream",
     "text": [
      "4.5e+05 is a large number\n"
     ]
    }
   ],
   "source": [
    "print('%.1e is a large number'%LargeNumber)"
   ]
  },
  {
   "cell_type": "code",
   "execution_count": 26,
   "metadata": {},
   "outputs": [
    {
     "name": "stdout",
     "output_type": "stream",
     "text": [
      "8.44 is a real number\n"
     ]
    }
   ],
   "source": [
    "f = 8.43567\n",
    "print('%.2f is a real number'%f)"
   ]
  },
  {
   "cell_type": "code",
   "execution_count": 27,
   "metadata": {},
   "outputs": [
    {
     "name": "stdout",
     "output_type": "stream",
     "text": [
      "3.224 sqaured is 10.394\n"
     ]
    }
   ],
   "source": [
    "x = 3.224\n",
    "y = x**2\n",
    "print('%s sqaured is %.3f'%(x,y))"
   ]
  },
  {
   "cell_type": "code",
   "execution_count": 19,
   "metadata": {},
   "outputs": [
    {
     "name": "stdout",
     "output_type": "stream",
     "text": [
      "A\n",
      "B\n"
     ]
    }
   ],
   "source": [
    "print('A')\n",
    "print('B')"
   ]
  },
  {
   "cell_type": "code",
   "execution_count": 20,
   "metadata": {
    "scrolled": true
   },
   "outputs": [
    {
     "name": "stdout",
     "output_type": "stream",
     "text": [
      "Hello World!;Hello World!\n"
     ]
    }
   ],
   "source": [
    "print('Hello World!', end=\";\") \n",
    "print('Hello World!')"
   ]
  },
  {
   "cell_type": "code",
   "execution_count": 21,
   "metadata": {
    "scrolled": true
   },
   "outputs": [
    {
     "name": "stdout",
     "output_type": "stream",
     "text": [
      "Hello\tWorld\n"
     ]
    }
   ],
   "source": [
    "print('Hello\\tWorld') "
   ]
  },
  {
   "cell_type": "code",
   "execution_count": 22,
   "metadata": {},
   "outputs": [
    {
     "name": "stdout",
     "output_type": "stream",
     "text": [
      "Hello\n",
      "World\n"
     ]
    }
   ],
   "source": [
    "print('Hello\\nWorld')"
   ]
  },
  {
   "cell_type": "code",
   "execution_count": 29,
   "metadata": {},
   "outputs": [
    {
     "name": "stdout",
     "output_type": "stream",
     "text": [
      "four\n"
     ]
    }
   ],
   "source": [
    "print('four')"
   ]
  },
  {
   "cell_type": "code",
   "execution_count": 28,
   "metadata": {
    "scrolled": true
   },
   "outputs": [
    {
     "name": "stdout",
     "output_type": "stream",
     "text": [
      "    four\n"
     ]
    }
   ],
   "source": [
    "print('%8s'%'four')"
   ]
  },
  {
   "cell_type": "code",
   "execution_count": 30,
   "metadata": {},
   "outputs": [
    {
     "name": "stdout",
     "output_type": "stream",
     "text": [
      "four    \n"
     ]
    }
   ],
   "source": [
    "print('%-8s'%'four')"
   ]
  },
  {
   "cell_type": "markdown",
   "metadata": {},
   "source": [
    "## 3.5. Boolean Logic and if-else Statement\n",
    "The if statement is used to create a decision structure, which allows a program to have more than one path of execution. The if statement causes one or more statements to execute only when a Boolean expression is true. \n",
    "\n",
    "Boolean logic: >, <, >=, <=, == (equal to), != (not equal to) <br>\n",
    "Logic operators\n",
    "1. **and**: The and operator connects two Boolean expressions into one compound expression. Both subexpressions must be true for the compound expression to be true. e.g., (x >= 20) and (x <= 40)\n",
    "2. **or**: One or both subexpressions must be true for the compound expression to be true. It is only necessary for one of the subexpressions to be true, and it does not matter which. E.g., (x<20) or (x>40)\n",
    "3. **not**: reverses the truth of its operand. If it is applied to an expression that is false, the operator returns true. E.g., not (a > 2)\n",
    "\n",
    "\n",
    "if-else statement: <br>\n",
    "```\n",
    "if sales >= 50000:\n",
    "    commission = sales * 0.12 \n",
    "    print('You met your sales quota!\\nYour commission is $%.2f'%commission)\n",
    "else:\n",
    "    print('Sales quota is not met.')\n",
    "```"
   ]
  },
  {
   "cell_type": "code",
   "execution_count": 32,
   "metadata": {
    "scrolled": true
   },
   "outputs": [
    {
     "name": "stdout",
     "output_type": "stream",
     "text": [
      "Your annual sales:4000\n",
      "Sales quota is not met.\n"
     ]
    }
   ],
   "source": [
    "sales=float(input('Your annual sales:'))\n",
    "if sales >= 50000: \n",
    "    commission = sales * 0.12 \n",
    "    print('You met your sales quota!\\nYour commission is $%.2f'%commission )\n",
    "else:\n",
    "    print('Sales quota is not met.')"
   ]
  },
  {
   "cell_type": "code",
   "execution_count": 34,
   "metadata": {},
   "outputs": [
    {
     "name": "stdout",
     "output_type": "stream",
     "text": [
      "Enter the numeric grade: 60\n",
      "The letter grade is F\n"
     ]
    }
   ],
   "source": [
    "number = int(input(\"Enter the numeric grade: \")) \n",
    "if number > 89: \n",
    "    letter = 'A' \n",
    "elif number > 79: \n",
    "    letter = 'B' \n",
    "elif number > 69: \n",
    "    letter = 'C' \n",
    "else: \n",
    "    letter = 'F' \n",
    "print(\"The letter grade is\", letter)"
   ]
  },
  {
   "cell_type": "markdown",
   "metadata": {},
   "source": [
    "## 3.6. The `For` Loop\n",
    "Control  statements with repetition statements are known as loops. Loops repeat actions. Each repetition of the action is known as a pass or an iteration.\n",
    "\n",
    "The function `range(start, stop, step)` generates a series of numbers within a given range from start to stop **(not including stop)** with an increment equal to step.\n",
    "\n",
    "```\n",
    "for <variable> in range(<integer>):\n",
    "    <statement 1>\n",
    "    <statement 2>\n",
    "    ...\n",
    "    <statement n>\n",
    "    ```"
   ]
  },
  {
   "cell_type": "code",
   "execution_count": 39,
   "metadata": {},
   "outputs": [
    {
     "name": "stdout",
     "output_type": "stream",
     "text": [
      "1\n",
      "3\n"
     ]
    }
   ],
   "source": [
    "for i in range(1,5,2):\n",
    "    print(i)"
   ]
  },
  {
   "cell_type": "code",
   "execution_count": null,
   "metadata": {},
   "outputs": [],
   "source": [
    "#print the power of 2 for numbers from 0 to 4\n",
    "for number in range(5):\n",
    "    print('%i squared is %i\\n'%(number,number**2))"
   ]
  },
  {
   "cell_type": "code",
   "execution_count": 41,
   "metadata": {
    "scrolled": true
   },
   "outputs": [
    {
     "name": "stdout",
     "output_type": "stream",
     "text": [
      "The result is 24\n"
     ]
    }
   ],
   "source": [
    "product = 1\n",
    "for x in range(1,5): \n",
    "    #product = product * x\n",
    "    product*=x\n",
    "print('The result is', product)"
   ]
  },
  {
   "cell_type": "markdown",
   "metadata": {},
   "source": [
    "Expressions such as x = x + 1 or x = x * 2 occur so frequently in loops that Python includes abbreviated forms for them.  augmented assignment operations. \n",
    "`<variable> <operator>=<expression>` is equivalent to `<variable> = <variable> <operator> <expression>`\n",
    "\n",
    "a = 17  \n",
    "a += 3  Equivalent to a = a + 3 <br>\n",
    "a -= 3  Equivalent to a = a - 3 <br>\n",
    "a *= 3  Equivalent to a = a * 3<br>\n",
    "a /= 3  Equivalent to a = a / 3<br>\n",
    "a %= 3   Equivalent to a = a % 3"
   ]
  },
  {
   "cell_type": "markdown",
   "metadata": {},
   "source": [
    "## Case study: An Investment Report\n",
    "\n",
    "#### Request: Write a program that computes an investment report.\n",
    "#### Analysis: <br>\n",
    "The inputs to this program are the following:\n",
    "\n",
    "1. An initial amount to be invested (a floating-point number) \n",
    "2. A period of years (an integer) \n",
    "3. An interest rate (a percentage expressed as an integer)\n",
    "\n",
    "The program uses a simplified form of compound interest, in which the interest is computed once each year and added to the total amount invested. The output of the program is a report in tabular form that shows, for each year in the term of the investment, the year number, the initial balance in the account for that year, the interest earned for that year, and the ending balance for that year. The columns of the table are suitably labeled with a header in the first row. Following the output of the table, the program prints the total amount of the investment balance and the total amount of interest earned for the period. The proposed user interface is shown below.\n",
    "\n",
    "\n",
    "Enter the investment amount: 10000.00 <br>\n",
    "Enter the number of years: 5<br>\n",
    "Enter the rate as a %: 5  <br>\n",
    "\n",
    "Year &nbsp;&nbsp;&nbsp;&nbsp;Starting balance &nbsp;&nbsp;&nbsp;&nbsp; Interest  &nbsp;&nbsp;&nbsp;&nbsp;Ending balance <br>\n",
    " 1\t &nbsp;&emsp;&emsp;&emsp;10000.00  &nbsp;&emsp;&emsp;&emsp;    500.00    &nbsp;&emsp;&emsp;&emsp; 10500.00<br>\n",
    " 2\t  &nbsp;&emsp;&emsp;&emsp;10500.00   &nbsp;&emsp;&emsp;&emsp;   525.003\t &emsp;&emsp;&emsp; 11025.00 <br>\n",
    " 3     &nbsp;&emsp;&emsp;&emsp;  11025.00     &nbsp;&emsp;&emsp;&emsp; 551.25  &nbsp;&emsp;&emsp;&emsp;   11576.25<br>\n",
    " 4\t   &nbsp;&emsp;&emsp;&emsp;  11576.25    &nbsp;&emsp;&emsp;&emsp;  578.815\t &emsp;&emsp;&emsp; 12155.06<br>\n",
    " 5     &nbsp;&emsp;&emsp;&emsp; 12155.06     &nbsp;&emsp;&emsp;&emsp; 607.75  &nbsp;&emsp;&emsp;&emsp;   12762.82 <br>\n",
    "   \n",
    "\n",
    "Ending balance: $12762.82 \n",
    "\n",
    "Total interest earned: $2762.82\n"
   ]
  },
  {
   "cell_type": "code",
   "execution_count": 11,
   "metadata": {},
   "outputs": [
    {
     "name": "stdout",
     "output_type": "stream",
     "text": [
      "Enter the investment amount: 5000\n",
      "Enter the number of years: 6\n",
      "Enter the rate as a %: 2\n",
      "Year  Starting balance  Interest  Ending balance\n",
      "   1           5000.00    100.00         5100.00\n",
      "   2           5100.00    102.00         5202.00\n",
      "   3           5202.00    104.04         5306.04\n",
      "   4           5306.04    106.12         5412.16\n",
      "   5           5412.16    108.24         5520.40\n",
      "   6           5520.40    110.41         5630.81\n",
      "Ending balance: $5630.81\n",
      "Total interest earned: $630.81\n"
     ]
    }
   ],
   "source": [
    "# Sample code for the case analysis\n",
    "\n",
    "# Accept the inputs \n",
    "startBalance = float(input(\"Enter the investment amount: \")) \n",
    "years = int(input(\"Enter the number of years: \")) \n",
    "rate = int(input(\"Enter the rate as a %: \")) \n",
    "\n",
    "# Convert the rate to a decimal number \n",
    "rate = rate / 100 \n",
    "\n",
    "# Initialize the accumulator for the interest \n",
    "totalInterest = 0.0 \n",
    "\n",
    "# Display the header for the table \n",
    "print(\"%4s%18s%10s%16s\" %  (\"Year\", \"Starting balance\", \"Interest\", \"Ending balance\")) \n",
    "\n",
    "# Compute and display the results for each year \n",
    "for year in range(1, years + 1): \n",
    "    interest = startBalance * rate \n",
    "    endBalance = startBalance + interest \n",
    "    print(\"%4d%18.2f%10.2f%16.2f\" %  (year, startBalance, interest, endBalance)) \n",
    "    startBalance = endBalance \n",
    "    totalInterest += interest\n",
    "    \n",
    "# Display the totals for the period\n",
    "print(\"Ending balance: $%0.2f\" % endBalance) \n",
    "print(\"Total interest earned: $%0.2f\" % totalInterest)\n"
   ]
  },
  {
   "cell_type": "markdown",
   "metadata": {},
   "source": [
    "# 4. Compound Data Types\n",
    "## 4.1. list\n",
    "* A list is an object that contains multiple data items enclosed in square brakets. \n",
    "* Lists are mutable, which means that their contents can be changed during a program’s execution. \n",
    "* Lists are dynamic data structures, meaning that items may be added to them or removed from them. "
   ]
  },
  {
   "cell_type": "code",
   "execution_count": null,
   "metadata": {},
   "outputs": [],
   "source": [
    "[\"apples\", \"oranges\", \"cherries\"]"
   ]
  },
  {
   "cell_type": "code",
   "execution_count": null,
   "metadata": {},
   "outputs": [],
   "source": [
    "prod_nums = ['V475', 'F987', 'Q143', 'R688']"
   ]
  },
  {
   "cell_type": "code",
   "execution_count": 44,
   "metadata": {},
   "outputs": [],
   "source": [
    "sales_by_month = [250, 180, 360, 340]"
   ]
  },
  {
   "cell_type": "code",
   "execution_count": null,
   "metadata": {},
   "outputs": [],
   "source": [
    "#list as elements\n",
    "sales_by_season = [[250, 180, 360], [340, 450, 250],[180, 230, 320], [550, 360, 190]]"
   ]
  },
  {
   "cell_type": "markdown",
   "metadata": {},
   "source": [
    "### 4.1.1. Functions Related to Lists\n",
    "\n",
    "1. `list()` function: converts objects into a list\n",
    "2. `len(list)` function: return the number of elements in a list\n",
    "3. `list[i]` function: access the element in the i-th position, **i=0,...,`len(list)`-1**.\n",
    "4. `list[<start>,<end>,<step>]` function: return a sublist with elements from start to end (not including the end position) with an increment equal to step. "
   ]
  },
  {
   "cell_type": "code",
   "execution_count": 45,
   "metadata": {},
   "outputs": [
    {
     "data": {
      "text/plain": [
       "4"
      ]
     },
     "execution_count": 45,
     "metadata": {},
     "output_type": "execute_result"
    }
   ],
   "source": [
    "len(sales_by_month)"
   ]
  },
  {
   "cell_type": "code",
   "execution_count": 49,
   "metadata": {},
   "outputs": [
    {
     "data": {
      "text/plain": [
       "[250, 230, 360, 340]"
      ]
     },
     "execution_count": 49,
     "metadata": {},
     "output_type": "execute_result"
    }
   ],
   "source": [
    "sales_by_month[1] = 230\n",
    "sales_by_month"
   ]
  },
  {
   "cell_type": "code",
   "execution_count": 50,
   "metadata": {
    "scrolled": true
   },
   "outputs": [
    {
     "data": {
      "text/plain": [
       "[230, 360]"
      ]
     },
     "execution_count": 50,
     "metadata": {},
     "output_type": "execute_result"
    }
   ],
   "source": [
    "sales_by_month[1:3]"
   ]
  },
  {
   "cell_type": "code",
   "execution_count": 3,
   "metadata": {},
   "outputs": [
    {
     "data": {
      "text/plain": [
       "[2, 3, 4, 5, 6, 7, 8, 9, 10, 11, 12, 13, 14, 15, 16, 17, 18, 19]"
      ]
     },
     "execution_count": 3,
     "metadata": {},
     "output_type": "execute_result"
    }
   ],
   "source": [
    "#use list() and range() to create lists\n",
    "a = list(range(2, 20))\n",
    "a"
   ]
  },
  {
   "cell_type": "code",
   "execution_count": 20,
   "metadata": {},
   "outputs": [
    {
     "data": {
      "text/plain": [
       "[2, 4, 6, 8, 10, 12, 14, 16, 18]"
      ]
     },
     "execution_count": 20,
     "metadata": {},
     "output_type": "execute_result"
    }
   ],
   "source": [
    "a = list(range(2, 20, 2))\n",
    "a"
   ]
  },
  {
   "cell_type": "code",
   "execution_count": 23,
   "metadata": {},
   "outputs": [
    {
     "data": {
      "text/plain": [
       "[6, 8, 10, 12]"
      ]
     },
     "execution_count": 23,
     "metadata": {},
     "output_type": "execute_result"
    }
   ],
   "source": [
    "a[2:6] #note the stopping position is excluded"
   ]
  },
  {
   "cell_type": "code",
   "execution_count": 16,
   "metadata": {},
   "outputs": [
    {
     "data": {
      "text/plain": [
       "[6, 10]"
      ]
     },
     "execution_count": 16,
     "metadata": {},
     "output_type": "execute_result"
    }
   ],
   "source": [
    "a[2:6:2]"
   ]
  },
  {
   "cell_type": "markdown",
   "metadata": {},
   "source": [
    "### 4.1.2. List Operations\n",
    "1. L1 + L2: List concatenation. Returns a new list consisting of the elements of the two operands.\n",
    "2. `<any value> in L`:  Returns True if the value is in the list or False otherwise.\n",
    "3. `for <variable> in L: <statement>` for loop to iterate through the list"
   ]
  },
  {
   "cell_type": "code",
   "execution_count": 51,
   "metadata": {},
   "outputs": [
    {
     "data": {
      "text/plain": [
       "[250, 180, 360, 340, 99, 100, 101, 102]"
      ]
     },
     "execution_count": 51,
     "metadata": {},
     "output_type": "execute_result"
    }
   ],
   "source": [
    "#joining two lists\n",
    "sales_by_month = [250, 180, 360, 340]\n",
    "sales_new = [99, 100, 101, 102] \n",
    "sales_by_month +=  sales_new\n",
    "sales_by_month"
   ]
  },
  {
   "cell_type": "code",
   "execution_count": 53,
   "metadata": {},
   "outputs": [
    {
     "name": "stdout",
     "output_type": "stream",
     "text": [
      "Enter a product number: F987\n",
      "We found the product\n"
     ]
    }
   ],
   "source": [
    "#use in function to find items in a list\n",
    "prod_nums = ['V475', 'F987', 'Q143', 'R688']\n",
    "search = input('Enter a product number: ')\n",
    "if search in prod_nums:\n",
    "    print(\"We found the product\")\n",
    "else:\n",
    "    print(\"Product is not found\")"
   ]
  },
  {
   "cell_type": "code",
   "execution_count": 52,
   "metadata": {
    "scrolled": false
   },
   "outputs": [
    {
     "name": "stdout",
     "output_type": "stream",
     "text": [
      "Month \t Sales\n",
      "1 \t 250\n",
      "2 \t 180\n",
      "3 \t 360\n",
      "4 \t 340\n",
      "5 \t 99\n",
      "6 \t 100\n",
      "7 \t 101\n",
      "8 \t 102\n"
     ]
    }
   ],
   "source": [
    "#for loop on a list\n",
    "print('Month \\t','Sales')\n",
    "i=1\n",
    "for x in sales_by_month:\n",
    "    print(i,'\\t', x)\n",
    "    i=i+1"
   ]
  },
  {
   "cell_type": "markdown",
   "metadata": {},
   "source": [
    "### 4.1.3. List Methods \n",
    "A method in python is similar to a function, except it is associated with object/classes. Unlike a function, methods are called on an object by `Object.method()`. \n",
    "1. Use Tab key followed by `object.` to list all methods associated with the object. \n",
    "2. Use `Object.method()?` to show the key information about the method\n",
    "\n",
    "**Some methods for  list objects**\n",
    "\n",
    "* L.append(element): Adds element to the end of L.\n",
    "* L.insert(index, element): Inserts element at index if index is less than the length of L. Otherwise, inserts element at the end of L.\n",
    "* L.pop(): Removes and returns the element at the end of L. \n",
    "* L.pop(index): Removes and returns the element at index.\n",
    "* L.remove(element): Remove an element from the list\n",
    "* L.sort():  Arrangs the list's elements in ascending order.\n",
    "* L.copy(aList): make a copy of a list "
   ]
  },
  {
   "cell_type": "code",
   "execution_count": 15,
   "metadata": {},
   "outputs": [
    {
     "data": {
      "text/plain": [
       "[1, 2, 3, 4, 5]"
      ]
     },
     "execution_count": 15,
     "metadata": {},
     "output_type": "execute_result"
    }
   ],
   "source": [
    "A = list(range(1,6))\n",
    "A"
   ]
  },
  {
   "cell_type": "code",
   "execution_count": 16,
   "metadata": {},
   "outputs": [
    {
     "data": {
      "text/plain": [
       "[1, 2, 3, 4, 5, 30]"
      ]
     },
     "execution_count": 16,
     "metadata": {},
     "output_type": "execute_result"
    }
   ],
   "source": [
    "# .append() method to add elements to the end\n",
    "A.append(30)\n",
    "A"
   ]
  },
  {
   "cell_type": "code",
   "execution_count": 17,
   "metadata": {},
   "outputs": [
    {
     "data": {
      "text/plain": [
       "[1, 2, 3, 4, 5]"
      ]
     },
     "execution_count": 17,
     "metadata": {},
     "output_type": "execute_result"
    }
   ],
   "source": [
    "# .pop() removes the last element\n",
    "A.pop()\n",
    "A"
   ]
  },
  {
   "cell_type": "code",
   "execution_count": 18,
   "metadata": {},
   "outputs": [
    {
     "data": {
      "text/plain": [
       "[1, 2, 3, 5]"
      ]
     },
     "execution_count": 18,
     "metadata": {},
     "output_type": "execute_result"
    }
   ],
   "source": [
    "A.pop(3) # remove the element at position 3\n",
    "A"
   ]
  },
  {
   "cell_type": "code",
   "execution_count": 19,
   "metadata": {},
   "outputs": [
    {
     "data": {
      "text/plain": [
       "[1, 3, 5]"
      ]
     },
     "execution_count": 19,
     "metadata": {},
     "output_type": "execute_result"
    }
   ],
   "source": [
    "A.remove(2) # find the element 2 and remove it from the list\n",
    "A"
   ]
  },
  {
   "cell_type": "code",
   "execution_count": 4,
   "metadata": {},
   "outputs": [
    {
     "data": {
      "text/plain": [
       "[1, 2, 3, 20, 4, 5]"
      ]
     },
     "execution_count": 4,
     "metadata": {},
     "output_type": "execute_result"
    }
   ],
   "source": [
    "# .insert() adds an element to a specific position\n",
    "A.insert(3, 20)\n",
    "A"
   ]
  },
  {
   "cell_type": "code",
   "execution_count": 5,
   "metadata": {},
   "outputs": [
    {
     "data": {
      "text/plain": [
       "[1, 2, 3, 4, 5, 20]"
      ]
     },
     "execution_count": 5,
     "metadata": {},
     "output_type": "execute_result"
    }
   ],
   "source": [
    "# .sort() to sort the elements in a list\n",
    "A.sort()\n",
    "A"
   ]
  },
  {
   "cell_type": "markdown",
   "metadata": {},
   "source": [
    "### A note about making list copies\n",
    "If A ist list, \"B=A\" will make a copy of the list A. However, it will produce an alias only, meaning that B refers to the same list object. When you change list A, the value of B will be changed too.\n",
    "\n",
    "In order to make a real copy of a list that is independent from the original, use A.copy()"
   ]
  },
  {
   "cell_type": "code",
   "execution_count": 6,
   "metadata": {},
   "outputs": [
    {
     "name": "stdout",
     "output_type": "stream",
     "text": [
      "B= [1, 2, 3, 4, 20]\n",
      "C= [1, 2, 3, 4, 5]\n"
     ]
    }
   ],
   "source": [
    "A = list(range(1,6))\n",
    "B = A\n",
    "C = A.copy()\n",
    "A[-1] = 20 # change the last element in A to 20\n",
    "print('B=', B) # the output will show that B has been changed too\n",
    "print('C=', C) # the list C remains the same"
   ]
  },
  {
   "cell_type": "markdown",
   "metadata": {},
   "source": [
    "### 4.1.4. List Comprehension\n",
    "List comprehensions provide a concise way to create lists instead of using `for` loops.\n",
    "\n",
    "An example using `for` loop:\n",
    "```\n",
    "squares = []\n",
    "for i in range(10):\n",
    "     squares.append(i * i)\n",
    "squares\n",
    "```\n",
    "The same example with list comprehension:<br>\n",
    "`squares = [i * i for i in range(10)]`.\n",
    "\n",
    "It also applies when `if` statement is involved.\n",
    "```\n",
    "even = []\n",
    "for i in range(10):\n",
    "     if i%2 == 0:\n",
    "          even.append(i)\n",
    "even\n",
    "```\n",
    "We can write `even=[i for i in range(10) if i%2==0]`"
   ]
  },
  {
   "cell_type": "code",
   "execution_count": null,
   "metadata": {
    "scrolled": true
   },
   "outputs": [],
   "source": [
    "even=[i for i in range(10) if i%2==0]\n",
    "even"
   ]
  },
  {
   "cell_type": "code",
   "execution_count": 13,
   "metadata": {},
   "outputs": [
    {
     "data": {
      "text/plain": [
       "[30, 50, 70, 50, 70, 90, 70, 90, 110]"
      ]
     },
     "execution_count": 13,
     "metadata": {},
     "output_type": "execute_result"
    }
   ],
   "source": [
    "#cross adding all numbers from one list to the list\n",
    "[x+y for x in [10,30,50] for y in [20,40,60]]"
   ]
  },
  {
   "cell_type": "code",
   "execution_count": 14,
   "metadata": {},
   "outputs": [
    {
     "name": "stdout",
     "output_type": "stream",
     "text": [
      "These numbers are both in A and B [0, 60]\n"
     ]
    }
   ],
   "source": [
    "A = [0,10,30,50, 60] \n",
    "B = [0,20,40,60]\n",
    "# find the common numbers in A and B\n",
    "common_num = [x for x in A for y in B if x==y ] \n",
    "print('These numbers are both in A and B', common_num)"
   ]
  },
  {
   "cell_type": "markdown",
   "metadata": {},
   "source": [
    "## 4.2. Tuples\n",
    "A tuple is a type of sequence that resembles a list, except that, unlike a list, a tuple is immutable (can't be changed). A tuple literal in Python is enclosed in parentheses."
   ]
  },
  {
   "cell_type": "code",
   "execution_count": null,
   "metadata": {},
   "outputs": [],
   "source": [
    "warehouse=('Chicago','Philadelphia','San Jose')"
   ]
  },
  {
   "cell_type": "markdown",
   "metadata": {},
   "source": [
    "## 4.3. Dictionary \n",
    "Dictionaries are Python’s implementation of a data structure that is more generally known as an associative array. A dictionary consists of a collection of key-value pairs (entries). Each key-value pair maps the key to its associated value.\n",
    "\n",
    "A dictionary in Python is a comma-separated list of key-value pairs in curly braces {}. A colon (:) separates each key from its associated value:\n",
    "```\n",
    "d = {<key>: <value>,<key>: <value>,..., <key>:<value>}\n",
    "```"
   ]
  },
  {
   "cell_type": "code",
   "execution_count": null,
   "metadata": {},
   "outputs": [],
   "source": [
    "tel = {\"Savannah\":\"476-3321\", \"Nathaniel\":\"351-7743\"}"
   ]
  },
  {
   "cell_type": "code",
   "execution_count": 54,
   "metadata": {},
   "outputs": [],
   "source": [
    "info = {'name': 'Molly', 'age': 25}"
   ]
  },
  {
   "cell_type": "code",
   "execution_count": 55,
   "metadata": {},
   "outputs": [
    {
     "data": {
      "text/plain": [
       "{'name': 'Molly', 'age': 25, 'job': 'Analyst'}"
      ]
     },
     "execution_count": 55,
     "metadata": {},
     "output_type": "execute_result"
    }
   ],
   "source": [
    "info['job'] = \"Analyst\"\n",
    "info"
   ]
  },
  {
   "cell_type": "code",
   "execution_count": 56,
   "metadata": {},
   "outputs": [
    {
     "data": {
      "text/plain": [
       "{'name': 'Sally', 'age': 25, 'job': 'Analyst'}"
      ]
     },
     "execution_count": 56,
     "metadata": {},
     "output_type": "execute_result"
    }
   ],
   "source": [
    "info['name']='Sally'\n",
    "info"
   ]
  },
  {
   "cell_type": "markdown",
   "metadata": {},
   "source": [
    "### 4.3.1. Common Dictionary Operations\n",
    "\n",
    "* `d[<key>]`: Used for inserting a new key, replacing a value, or obtaining a value at an existing key. \n",
    "*  `d.pop(key [, default])` removes the key and returns the value if the key exists or returns the default if the key does not exist. Raises an error if the default is omitted and the key does not exist.\n",
    "* Use `for` and `in` operators to traverse a dictionary. \n"
   ]
  },
  {
   "cell_type": "code",
   "execution_count": 57,
   "metadata": {},
   "outputs": [
    {
     "data": {
      "text/plain": [
       "{'age': 25, 'job': 'Analyst'}"
      ]
     },
     "execution_count": 57,
     "metadata": {},
     "output_type": "execute_result"
    }
   ],
   "source": [
    "info.pop('name')\n",
    "info"
   ]
  },
  {
   "cell_type": "code",
   "execution_count": 8,
   "metadata": {
    "scrolled": false
   },
   "outputs": [
    {
     "name": "stdout",
     "output_type": "stream",
     "text": [
      "name : Molly\n",
      "age : 25\n",
      "occupation : SC Analyst\n"
     ]
    }
   ],
   "source": [
    "# traverse a dictionary\n",
    "for key in info:\n",
    "    print(key,':', info[key])"
   ]
  },
  {
   "cell_type": "markdown",
   "metadata": {},
   "source": [
    "### 4.3.2. Other Dictionary Operations\n",
    "\n",
    "* `len(d)`: Returns the number of entries in d.\n",
    "* `d.get(key [, default])`: Returns the value if the key exists or returns the default if the key does not exist. Raises an error if the default is omitted and the key does not exist.\n",
    "* `list(d.keys())`: Returns a list of the keys.\n",
    "* `list(d.values())`:Returns a list of the values. \n",
    "* `d.clear()`: Removes all entries from a dictionary."
   ]
  },
  {
   "cell_type": "code",
   "execution_count": 58,
   "metadata": {},
   "outputs": [
    {
     "data": {
      "text/plain": [
       "['age', 'job']"
      ]
     },
     "execution_count": 58,
     "metadata": {},
     "output_type": "execute_result"
    }
   ],
   "source": [
    "list(info.keys())"
   ]
  },
  {
   "cell_type": "code",
   "execution_count": 59,
   "metadata": {},
   "outputs": [
    {
     "data": {
      "text/plain": [
       "[25, 'Analyst']"
      ]
     },
     "execution_count": 59,
     "metadata": {},
     "output_type": "execute_result"
    }
   ],
   "source": [
    "list(info.values())"
   ]
  },
  {
   "cell_type": "code",
   "execution_count": 60,
   "metadata": {},
   "outputs": [
    {
     "data": {
      "text/plain": [
       "{}"
      ]
     },
     "execution_count": 60,
     "metadata": {},
     "output_type": "execute_result"
    }
   ],
   "source": [
    "info.clear()\n",
    "info"
   ]
  }
 ],
 "metadata": {
  "kernelspec": {
   "display_name": "Python 3",
   "language": "python",
   "name": "python3"
  },
  "language_info": {
   "codemirror_mode": {
    "name": "ipython",
    "version": 3
   },
   "file_extension": ".py",
   "mimetype": "text/x-python",
   "name": "python",
   "nbconvert_exporter": "python",
   "pygments_lexer": "ipython3",
   "version": "3.7.4"
  }
 },
 "nbformat": 4,
 "nbformat_minor": 2
}
