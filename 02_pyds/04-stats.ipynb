{
 "cells": [
  {
   "cell_type": "code",
   "execution_count": 3,
   "metadata": {},
   "outputs": [],
   "source": [
    "import numpy as np\n",
    "import pandas as pd\n",
    "import matplotlib.pyplot as plt\n",
    "%matplotlib inline"
   ]
  },
  {
   "cell_type": "code",
   "execution_count": 4,
   "metadata": {},
   "outputs": [
    {
     "data": {
      "text/html": [
       "<div>\n",
       "<style scoped>\n",
       "    .dataframe tbody tr th:only-of-type {\n",
       "        vertical-align: middle;\n",
       "    }\n",
       "\n",
       "    .dataframe tbody tr th {\n",
       "        vertical-align: top;\n",
       "    }\n",
       "\n",
       "    .dataframe thead th {\n",
       "        text-align: right;\n",
       "    }\n",
       "</style>\n",
       "<table border=\"1\" class=\"dataframe\">\n",
       "  <thead>\n",
       "    <tr style=\"text-align: right;\">\n",
       "      <th></th>\n",
       "      <th>Gender</th>\n",
       "      <th>Height</th>\n",
       "      <th>Weight</th>\n",
       "    </tr>\n",
       "  </thead>\n",
       "  <tbody>\n",
       "    <tr>\n",
       "      <th>0</th>\n",
       "      <td>Male</td>\n",
       "      <td>73.847017</td>\n",
       "      <td>241.893563</td>\n",
       "    </tr>\n",
       "    <tr>\n",
       "      <th>1</th>\n",
       "      <td>Male</td>\n",
       "      <td>68.781904</td>\n",
       "      <td>162.310473</td>\n",
       "    </tr>\n",
       "    <tr>\n",
       "      <th>2</th>\n",
       "      <td>Male</td>\n",
       "      <td>74.110105</td>\n",
       "      <td>212.740856</td>\n",
       "    </tr>\n",
       "    <tr>\n",
       "      <th>3</th>\n",
       "      <td>Male</td>\n",
       "      <td>71.730978</td>\n",
       "      <td>220.042470</td>\n",
       "    </tr>\n",
       "    <tr>\n",
       "      <th>4</th>\n",
       "      <td>Male</td>\n",
       "      <td>69.881796</td>\n",
       "      <td>206.349801</td>\n",
       "    </tr>\n",
       "  </tbody>\n",
       "</table>\n",
       "</div>"
      ],
      "text/plain": [
       "  Gender     Height      Weight\n",
       "0   Male  73.847017  241.893563\n",
       "1   Male  68.781904  162.310473\n",
       "2   Male  74.110105  212.740856\n",
       "3   Male  71.730978  220.042470\n",
       "4   Male  69.881796  206.349801"
      ]
     },
     "execution_count": 4,
     "metadata": {},
     "output_type": "execute_result"
    }
   ],
   "source": [
    "df = pd.read_csv('../data/hwg.csv')\n",
    "df.head()"
   ]
  },
  {
   "cell_type": "code",
   "execution_count": 5,
   "metadata": {},
   "outputs": [],
   "source": [
    "heights = df['Height']\n",
    "weights = df['Weight']\n",
    "gender = df['Gender']"
   ]
  },
  {
   "cell_type": "code",
   "execution_count": 6,
   "metadata": {},
   "outputs": [],
   "source": [
    "summary_stats = ['min','max','mean','median','var','std','nunique']"
   ]
  },
  {
   "cell_type": "code",
   "execution_count": 8,
   "metadata": {},
   "outputs": [],
   "source": [
    "def print_summary_statistics(series):\n",
    "    '''\n",
    "    Given a pandas series, this function prints it's summary statistics,\n",
    "    particularly: \n",
    "    1. minimum and maximum values,\n",
    "    2. mean\n",
    "    3. median\n",
    "    4. variance\n",
    "    5. standard deviation\n",
    "    6. number of unique values\n",
    "    '''\n",
    "    print(\"=\" * 80)\n",
    "    print(\"Summary Statistics\")\n",
    "    print(\"=\" * 80)\n",
    "    for stat in summary_stats:\n",
    "        attr = series.__getattribute__(stat)\n",
    "        value = attr()\n",
    "        print(stat.capitalize() + \":\" + \"\\t\" + str(value))\n",
    "    print(\"=\" * 80)"
   ]
  },
  {
   "cell_type": "code",
   "execution_count": 9,
   "metadata": {},
   "outputs": [
    {
     "name": "stdout",
     "output_type": "stream",
     "text": [
      "================================================================================\n",
      "Summary Statistics\n",
      "================================================================================\n",
      "Min:\t54.2631333250971\n",
      "Max:\t78.99874234638959\n",
      "Mean:\t66.36755975482106\n",
      "Median:\t66.31807008178465\n",
      "Var:\t14.803472640140804\n",
      "Std:\t3.847528120773233\n",
      "Nunique:\t10000\n",
      "================================================================================\n"
     ]
    }
   ],
   "source": [
    "print_summary_statistics(heights)"
   ]
  },
  {
   "cell_type": "code",
   "execution_count": 10,
   "metadata": {},
   "outputs": [
    {
     "data": {
      "text/plain": [
       "count    10000.000000\n",
       "mean        66.367560\n",
       "std          3.847528\n",
       "min         54.263133\n",
       "25%         63.505620\n",
       "50%         66.318070\n",
       "75%         69.174262\n",
       "max         78.998742\n",
       "Name: Height, dtype: float64"
      ]
     },
     "execution_count": 10,
     "metadata": {},
     "output_type": "execute_result"
    }
   ],
   "source": [
    "heights.describe()"
   ]
  },
  {
   "cell_type": "code",
   "execution_count": 11,
   "metadata": {},
   "outputs": [],
   "source": [
    "def plot_sumstats_visualizations(series, show_hist=False):\n",
    "    '''\n",
    "    Given a series, visualize it's summary statistics.\n",
    "    '''\n",
    "    fig, axes = plt.subplots(nrows=2,ncols=2, figsize=(20,10))\n",
    "\n",
    "    # Min & Max\n",
    "    ax = axes[0,0]\n",
    "    ax.axvline(heights.min(),color='g',linewidth=3)\n",
    "    ax.axvline(heights.max(),color='g',linewidth=3)\n",
    "    ax.set_title(\"Min & Max\")\n",
    "    ax.set_xlabel('Height in \"')\n",
    "    ax.set_ylabel(\"# People\")\n",
    "\n",
    "    # Mean\n",
    "    ax = axes[0,1]\n",
    "    ax.axvline(heights.mean(),color='r',linewidth=3)\n",
    "    ax.set_title(\"Mean\")\n",
    "    ax.set_xlabel('Height in \"')\n",
    "    ax.set_ylabel(\"# People\")\n",
    "\n",
    "    # Median\n",
    "    ax = axes[1,0]\n",
    "    ax.axvline(heights.median(),color='k',linewidth=3)\n",
    "    ax.set_title(\"Median\")\n",
    "    ax.set_xlabel('Height in \"')\n",
    "    ax.set_ylabel(\"# People\")\n",
    "\n",
    "    # Standard Deviation\n",
    "    ax = axes[1,1]\n",
    "    sd0     = heights.mean() + heights.std()\n",
    "    sd1     = heights.mean() + 2*heights.std()\n",
    "    sd_neg1 = heights.mean() - heights.std()\n",
    "    ax.axvline(heights.mean(),color='r',linewidth=3)\n",
    "    ax.axvline(sd0,color='c',linewidth=3)\n",
    "    ax.axvline(sd1,color='c',linewidth=3)\n",
    "    ax.axvline(sd_neg1,color='c',linewidth=3)\n",
    "    ax.set_title(\"Standard Deviation\")\n",
    "    ax.set_xlabel('Height in \"')\n",
    "    ax.set_ylabel(\"# People\")\n",
    "    \n",
    "    if show_hist:\n",
    "        series.hist(ax=axes[0,0],fc='steelblue')\n",
    "        series.hist(ax=axes[0,1],fc='steelblue')\n",
    "        series.hist(ax=axes[1,0],fc='steelblue')\n",
    "        series.hist(ax=axes[1,1],fc='steelblue')\n",
    "        \n",
    "    plt.show()"
   ]
  },
  {
   "cell_type": "code",
   "execution_count": 12,
   "metadata": {},
   "outputs": [
    {
     "data": {
      "image/png": "[encoded data removed]",
      "text/plain": [
       "<Figure size 1440x720 with 4 Axes>"
      ]
     },
     "metadata": {
      "needs_background": "light"
     },
     "output_type": "display_data"
    }
   ],
   "source": [
    "plot_sumstats_visualizations(heights)"
   ]
  },
  {
   "cell_type": "code",
   "execution_count": 13,
   "metadata": {},
   "outputs": [
    {
     "data": {
      "image/png": "[encoded data removed]",
      "text/plain": [
       "<Figure size 1440x720 with 4 Axes>"
      ]
     },
     "metadata": {
      "needs_background": "light"
     },
     "output_type": "display_data"
    }
   ],
   "source": [
    "plot_sumstats_visualizations(heights, show_hist=True)"
   ]
  },
  {
   "cell_type": "code",
   "execution_count": null,
   "metadata": {},
   "outputs": [],
   "source": []
  }
 ],
 "metadata": {
  "kernelspec": {
   "display_name": "Python 3",
   "language": "python",
   "name": "python3"
  },
  "language_info": {
   "codemirror_mode": {
    "name": "ipython",
    "version": 3
   },
   "file_extension": ".py",
   "mimetype": "text/x-python",
   "name": "python",
   "nbconvert_exporter": "python",
   "pygments_lexer": "ipython3",
   "version": "3.6.8"
  }
 },
 "nbformat": 4,
 "nbformat_minor": 4
}
