{
 "cells": [
  {
   "cell_type": "markdown",
   "metadata": {},
   "source": [
    "# Python File I/O"
   ]
  },
  {
   "cell_type": "markdown",
   "metadata": {},
   "source": [
    "Opening Files in Python\n",
    "\n",
    "Python has a built-in open() function to open a file. This function returns a file object, also called a handle, as it is used to read or modify the file accordingly.\n",
    "\n",
    "We can specify the mode while opening a file. In mode, we specify whether we want to read r, write w or append a to the file. We can also specify if we want to open the file in text mode or binary mode\n",
    "\n",
    "The default is reading in text mode. In this mode, we get strings when reading from the file.\n",
    "\n",
    "On the other hand, binary mode returns bytes and this is the mode to be used when dealing with non-text files like images or executable files.\n",
    "\n",
    "Mode\tDescription\n",
    "r\tOpens a file for reading. (default)\n",
    "w\tOpens a file for writing. Creates a new file if it does not exist or truncates the file if it exists.\n",
    "x\tOpens a file for exclusive creation. If the file already exists, the operation fails.\n",
    "a\tOpens a file for appending at the end of the file without truncating it. Creates a new file if it does not exist.\n",
    "t\tOpens in text mode. (default)\n",
    "b\tOpens in binary mode.\n",
    "+\tOpens a file for updating (reading and writing)\n",
    "\n",
    "Unlike other languages, the character a does not imply the number 97 until it is encoded using ASCII (or other equivalent encodings).\n",
    "\n",
    "Moreover, the default encoding is platform dependent. In windows, it is cp1252 but utf-8 in Linux.\n",
    "\n",
    "So, we must not also rely on the default encoding or else our code will behave differently in different platforms.\n",
    "\n",
    "Hence, when working with files in text mode, it is highly recommended to specify the encoding type.\n",
    "\n",
    "f = open(\"test.txt\", mode='r', encoding='utf-8')"
   ]
  },
  {
   "cell_type": "code",
   "execution_count": null,
   "metadata": {},
   "outputs": [],
   "source": [
    ">>> f = open(\"test.txt\")    # open file in current directory\n",
    ">>> f = open(\"C:/Python38/README.txt\")  # specifying full path\n",
    "\n",
    "f = open(\"test.txt\")      # equivalent to 'r' or 'rt'\n",
    "f = open(\"test.txt\",'w')  # write in text mode\n",
    "f = open(\"img.bmp\",'r+b') # read and write in binary mode\n",
    "\n",
    "f = open(\"test.txt\", mode='r', encoding='utf-8')"
   ]
  },
  {
   "cell_type": "markdown",
   "metadata": {},
   "source": [
    "When we are done with performing operations on the file, we need to properly close the file.\n",
    "Closing a file will free up the resources that were tied with the file. It is done using the close() method available in Python.\n",
    "Python has a garbage collector to clean up unreferenced objects but we must not rely on it to close the file.\n",
    "This method is not entirely safe. If an exception occurs when we are performing some operation with the file, the code exits without closing the file.\n",
    "A safer way is to use a try...finally block.\n",
    "This way, we are guaranteeing that the file is properly closed even if an exception is raised that causes program flow to stop.\n",
    "The best way to close a file is by using the with statement. This ensures that the file is closed when the block inside the with statement is exited.\n",
    "We don't need to explicitly call the close() method. It is done internally."
   ]
  },
  {
   "cell_type": "code",
   "execution_count": null,
   "metadata": {},
   "outputs": [],
   "source": [
    "f = open(\"test.txt\", encoding = 'utf-8')\n",
    "# perform file operations\n",
    "f.close()\n",
    "\n",
    "try:\n",
    "   f = open(\"test.txt\", encoding = 'utf-8')\n",
    "   # perform file operations\n",
    "finally:\n",
    "   f.close()\n",
    "\n",
    "with open(\"test.txt\", encoding = 'utf-8') as f:\n",
    "   # perform file operations\n",
    "\n"
   ]
  },
  {
   "cell_type": "markdown",
   "metadata": {},
   "source": [
    "Writing to Files in Python\n",
    "In order to write into a file in Python, we need to open it in write w, append a or exclusive creation x mode.\n",
    "\n",
    "We need to be careful with the w mode, as it will overwrite into the file if it already exists. Due to this, all the previous data are erased.\n",
    "\n",
    "Writing a string or sequence of bytes (for binary files) is done using the write() method. This method returns the number of characters written to the file.\n",
    "\n",
    "This program will create a new file named test.txt in the current directory if it does not exist. If it does exist, it is overwritten.\n",
    "\n",
    "We must include the newline characters ourselves to distinguish the different lines."
   ]
  },
  {
   "cell_type": "code",
   "execution_count": null,
   "metadata": {},
   "outputs": [],
   "source": [
    "with open(\"test.txt\",'w',encoding = 'utf-8') as f:\n",
    "   f.write(\"my first file\\n\")\n",
    "   f.write(\"This file\\n\\n\")\n",
    "   f.write(\"contains three lines\\n\")"
   ]
  },
  {
   "cell_type": "markdown",
   "metadata": {},
   "source": [
    "Reading Files in Python\n",
    "To read a file in Python, we must open the file in reading r mode.\n",
    "\n",
    "There are various methods available for this purpose. We can use the read(size) method to read in the size number of data. If the size parameter is not specified, it reads and returns up to the end of the file.\n",
    "\n",
    "We can read the text.txt file we wrote in the above section in the following way:\n",
    "\n",
    "\n",
    "\n",
    "We can change our current file cursor (position) using the seek() method. Similarly, the tell() method returns our current position (in number of bytes).\n",
    "\n",
    "\n",
    "\n",
    "Alternatively, we can use the readline() method to read individual lines of a file. This method reads a file till the newline, including the newline character.\n",
    "\n"
   ]
  },
  {
   "cell_type": "code",
   "execution_count": null,
   "metadata": {},
   "outputs": [],
   "source": [
    ">>> f = open(\"test.txt\",'r',encoding = 'utf-8')\n",
    ">>> f.read(4)    # read the first 4 data\n",
    "'This'\n",
    ">>> f.read(4)    # read the next 4 data\n",
    "' is '\n",
    ">>> f.read()     # read in the rest till end of file\n",
    "'my first file\\nThis file\\ncontains three lines\\n'\n",
    ">>> f.read()  # further reading returns empty sting\n",
    "''\n",
    "\n",
    "We can see that the read() method returns a newline as '\\n'. Once the end of the file is reached, we get an empty string on further reading.\n",
    "\n",
    "\n",
    "\n",
    "\n",
    ">>> f.tell()    # get the current file position\n",
    "56\n",
    ">>> f.seek(0)   # bring file cursor to initial position\n",
    "0\n",
    ">>> print(f.read())  # read the entire file\n",
    "This is my first file\n",
    "This file\n",
    "contains three lines\n",
    "\n",
    "\n",
    "We can read a file line-by-line using a for loop. This is both efficient and fast.\n",
    "\n",
    ">>> for line in f:\n",
    "...     print(line, end = '')\n",
    "...\n",
    "This is my first file\n",
    "This file\n",
    "contains three lines\n",
    "In this program, the lines in the file itself include a newline character \\n. So, we use the end parameter of the print() function to avoid two newlines when printing.\n",
    "\n",
    "\n",
    "\n",
    "\n",
    ">>> f.readline()\n",
    "'This is my first file\\n'\n",
    ">>> f.readline()\n",
    "'This file\\n'\n",
    ">>> f.readline()\n",
    "'contains three lines\\n'\n",
    ">>> f.readline()\n",
    "''\n",
    "\n",
    "Lastly, the readlines() method returns a list of remaining lines of the entire file. All these reading methods return empty values when the end of file (EOF) is reached.\n",
    "\n",
    "\n",
    ">>> f.readlines()\n",
    "['This is my first file\\n', 'This file\\n', 'contains three lines\\n']\n",
    "\n"
   ]
  },
  {
   "cell_type": "markdown",
   "metadata": {},
   "source": [
    "Python File Methods\n",
    "There are various methods available with the file object. Some of them have been used in the above examples.\n",
    "\n",
    "Here is the complete list of methods in text mode with a brief description:\n",
    "\n",
    "Method\tDescription\n",
    "close()  - \tCloses an opened file. It has no effect if the file is already closed.\n",
    "detach() - \tSeparates the underlying binary buffer from the TextIOBase and returns it.\n",
    "fileno() - \tReturns an integer number (file descriptor) of the file.\n",
    "flush()  - \tFlushes the write buffer of the file stream.\n",
    "isatty() - \tReturns True if the file stream is interactive.\n",
    "read(n)  - \tReads at most n characters from the file. Reads till end of file if it is negative or None.\n",
    "readable() - \tReturns True if the file stream can be read from.\n",
    "readline(n=-1)  - \tReads and returns one line from the file. Reads in at most n bytes if specified.\n",
    "readlines(n=-1)  - \tReads and returns a list of lines from the file. Reads in at most n bytes/characters if specified.\n",
    "seek(offset,from=SEEK_SET) - \tChanges the file position to offset bytes, in reference to from (start, current, end).\n",
    "seekable()  - \tReturns True if the file stream supports random access.\n",
    "tell()  - \tReturns the current file location.\n",
    "truncate(size=None)  - \tResizes the file stream to size bytes. If size is not specified, resizes to current location.\n",
    "writable()  - \tReturns True if the file stream can be written to.\n",
    "write(s)  - \tWrites the string s to the file and returns the number of characters written.\n",
    "writelines(lines)  - \tWrites a list of lines to the file."
   ]
  }
 ],
 "metadata": {
  "kernelspec": {
   "display_name": "Python 3",
   "language": "python",
   "name": "python3"
  },
  "language_info": {
   "codemirror_mode": {
    "name": "ipython",
    "version": 3
   },
   "file_extension": ".py",
   "mimetype": "text/x-python",
   "name": "python",
   "nbconvert_exporter": "python",
   "pygments_lexer": "ipython3",
   "version": "3.7.4"
  }
 },
 "nbformat": 4,
 "nbformat_minor": 2
}
