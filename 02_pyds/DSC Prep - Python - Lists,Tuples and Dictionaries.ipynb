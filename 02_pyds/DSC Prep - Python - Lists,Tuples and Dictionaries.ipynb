{
 "cells": [
  {
   "cell_type": "markdown",
   "metadata": {},
   "source": [
    "# 1. Compound Data Types\n",
    "## 1.1. list\n",
    "* A list is an object that contains multiple data items enclosed in square brakets. \n",
    "* Lists are mutable, which means that their contents can be changed during a program’s execution. \n",
    "* Lists are dynamic data structures, meaning that items may be added to them or removed from them. "
   ]
  },
  {
   "cell_type": "code",
   "execution_count": null,
   "metadata": {},
   "outputs": [],
   "source": [
    "[\"apples\", \"oranges\", \"cherries\"]"
   ]
  },
  {
   "cell_type": "code",
   "execution_count": null,
   "metadata": {},
   "outputs": [],
   "source": [
    "prod_nums = ['V475', 'F987', 'Q143', 'R688']"
   ]
  },
  {
   "cell_type": "code",
   "execution_count": null,
   "metadata": {},
   "outputs": [],
   "source": [
    "sales_by_month = [250, 180, 360, 340]"
   ]
  },
  {
   "cell_type": "code",
   "execution_count": null,
   "metadata": {},
   "outputs": [],
   "source": [
    "#list as elements\n",
    "sales_by_season = [[250, 180, 360], [340, 450, 250],[180, 230, 320], [550, 360, 190]]"
   ]
  },
  {
   "cell_type": "markdown",
   "metadata": {},
   "source": [
    "### 1.1.1. Functions Related to Lists\n",
    "\n",
    "1. `list()` function: converts objects into a list\n",
    "2. `len(list)` function: return the number of elements in a list\n",
    "3. `list[i]` function: access the element in the i-th position, **i=0,...,`len(list)`-1**.\n",
    "4. `list[<start>,<end>,<step>]` function: return a sublist with elements from start to end (not including the end position) with an increment equal to step. "
   ]
  },
  {
   "cell_type": "code",
   "execution_count": null,
   "metadata": {},
   "outputs": [],
   "source": [
    "len(sales_by_month)"
   ]
  },
  {
   "cell_type": "code",
   "execution_count": null,
   "metadata": {},
   "outputs": [],
   "source": [
    "sales_by_month[1] = 230\n",
    "sales_by_month"
   ]
  },
  {
   "cell_type": "code",
   "execution_count": null,
   "metadata": {
    "scrolled": true
   },
   "outputs": [],
   "source": [
    "sales_by_month[1:3]"
   ]
  },
  {
   "cell_type": "code",
   "execution_count": null,
   "metadata": {},
   "outputs": [],
   "source": [
    "#use list() and range() to create lists\n",
    "a = list(range(2, 20))\n",
    "a"
   ]
  },
  {
   "cell_type": "code",
   "execution_count": null,
   "metadata": {},
   "outputs": [],
   "source": [
    "a = list(range(2, 20, 2))\n",
    "a"
   ]
  },
  {
   "cell_type": "code",
   "execution_count": null,
   "metadata": {},
   "outputs": [],
   "source": [
    "a[2:6] #note the stopping position is excluded"
   ]
  },
  {
   "cell_type": "code",
   "execution_count": null,
   "metadata": {},
   "outputs": [],
   "source": [
    "a[2:6:2]"
   ]
  },
  {
   "cell_type": "markdown",
   "metadata": {},
   "source": [
    "### 1.1.2. List Operations\n",
    "1. L1 + L2: List concatenation. Returns a new list consisting of the elements of the two operands.\n",
    "2. `<any value> in L`:  Returns True if the value is in the list or False otherwise.\n",
    "3. `for <variable> in L: <statement>` for loop to iterate through the list"
   ]
  },
  {
   "cell_type": "code",
   "execution_count": null,
   "metadata": {},
   "outputs": [],
   "source": [
    "#joining two lists\n",
    "sales_by_month = [250, 180, 360, 340]\n",
    "sales_new = [99, 100, 101, 102] \n",
    "sales_by_month +=  sales_new\n",
    "sales_by_month"
   ]
  },
  {
   "cell_type": "code",
   "execution_count": null,
   "metadata": {},
   "outputs": [],
   "source": [
    "#use in function to find items in a list\n",
    "prod_nums = ['V475', 'F987', 'Q143', 'R688']\n",
    "search = input('Enter a product number: ')\n",
    "if search in prod_nums:\n",
    "    print(\"We found the product\")\n",
    "else:\n",
    "    print(\"Product is not found\")"
   ]
  },
  {
   "cell_type": "code",
   "execution_count": null,
   "metadata": {
    "scrolled": false
   },
   "outputs": [],
   "source": [
    "#for loop on a list\n",
    "print('Month \\t','Sales')\n",
    "i=1\n",
    "for x in sales_by_month:\n",
    "    print(i,'\\t', x)\n",
    "    i=i+1"
   ]
  },
  {
   "cell_type": "markdown",
   "metadata": {},
   "source": [
    "### 1.1.3. List Methods \n",
    "A method in python is similar to a function, except it is associated with object/classes. Unlike a function, methods are called on an object by `Object.method()`. \n",
    "1. Use Tab key followed by `object.` to list all methods associated with the object. \n",
    "2. Use `Object.method()?` to show the key information about the method\n",
    "\n",
    "**Some methods for  list objects**\n",
    "\n",
    "* L.append(element): Adds element to the end of L.\n",
    "* L.insert(index, element): Inserts element at index if index is less than the length of L. Otherwise, inserts element at the end of L.\n",
    "* L.pop(): Removes and returns the element at the end of L. \n",
    "* L.pop(index): Removes and returns the element at index.\n",
    "* L.remove(element): Remove an element from the list\n",
    "* L.sort():  Arrangs the list's elements in ascending order.\n",
    "* L.copy(aList): make a copy of a list "
   ]
  },
  {
   "cell_type": "code",
   "execution_count": null,
   "metadata": {},
   "outputs": [],
   "source": [
    "A = list(range(1,6))\n",
    "A"
   ]
  },
  {
   "cell_type": "code",
   "execution_count": null,
   "metadata": {},
   "outputs": [],
   "source": [
    "# .append() method to add elements to the end\n",
    "A.append(30)\n",
    "A"
   ]
  },
  {
   "cell_type": "code",
   "execution_count": null,
   "metadata": {},
   "outputs": [],
   "source": [
    "# .pop() removes the last element\n",
    "A.pop()\n",
    "A"
   ]
  },
  {
   "cell_type": "code",
   "execution_count": null,
   "metadata": {},
   "outputs": [],
   "source": [
    "A.pop(3) # remove the element at position 3\n",
    "A"
   ]
  },
  {
   "cell_type": "code",
   "execution_count": null,
   "metadata": {},
   "outputs": [],
   "source": [
    "A.remove(2) # find the element 2 and remove it from the list\n",
    "A"
   ]
  },
  {
   "cell_type": "code",
   "execution_count": null,
   "metadata": {},
   "outputs": [],
   "source": [
    "# .insert() adds an element to a specific position\n",
    "A.insert(3, 20)\n",
    "A"
   ]
  },
  {
   "cell_type": "code",
   "execution_count": null,
   "metadata": {},
   "outputs": [],
   "source": [
    "# .sort() to sort the elements in a list\n",
    "A.sort()\n",
    "A"
   ]
  },
  {
   "cell_type": "markdown",
   "metadata": {},
   "source": [
    "### A note about making list copies\n",
    "If A ist list, \"B=A\" will make a copy of the list A. However, it will produce an alias only, meaning that B refers to the same list object. When you change list A, the value of B will be changed too.\n",
    "\n",
    "In order to make a real copy of a list that is independent from the original, use A.copy()"
   ]
  },
  {
   "cell_type": "code",
   "execution_count": null,
   "metadata": {},
   "outputs": [],
   "source": [
    "A = list(range(1,6))\n",
    "B = A\n",
    "C = A.copy()\n",
    "A[-1] = 20 # change the last element in A to 20\n",
    "print('B=', B) # the output will show that B has been changed too\n",
    "print('C=', C) # the list C remains the same"
   ]
  },
  {
   "cell_type": "markdown",
   "metadata": {},
   "source": [
    "### 1.1.4. List Comprehension\n",
    "List comprehensions provide a concise way to create lists instead of using `for` loops.\n",
    "\n",
    "An example using `for` loop:\n",
    "```\n",
    "squares = []\n",
    "for i in range(10):\n",
    "     squares.append(i * i)\n",
    "squares\n",
    "```\n",
    "The same example with list comprehension:<br>\n",
    "`squares = [i * i for i in range(10)]`.\n",
    "\n",
    "It also applies when `if` statement is involved.\n",
    "```\n",
    "even = []\n",
    "for i in range(10):\n",
    "     if i%2 == 0:\n",
    "          even.append(i)\n",
    "even\n",
    "```\n",
    "We can write `even=[i for i in range(10) if i%2==0]`"
   ]
  },
  {
   "cell_type": "code",
   "execution_count": null,
   "metadata": {
    "scrolled": true
   },
   "outputs": [],
   "source": [
    "even=[i for i in range(10) if i%2==0]\n",
    "even"
   ]
  },
  {
   "cell_type": "code",
   "execution_count": null,
   "metadata": {},
   "outputs": [],
   "source": [
    "#cross adding all numbers from one list to the list\n",
    "[x+y for x in [10,30,50] for y in [20,40,60]]"
   ]
  },
  {
   "cell_type": "code",
   "execution_count": null,
   "metadata": {},
   "outputs": [],
   "source": [
    "A = [0,10,30,50, 60] \n",
    "B = [0,20,40,60]\n",
    "# find the common numbers in A and B\n",
    "common_num = [x for x in A for y in B if x==y ] \n",
    "print('These numbers are both in A and B', common_num)"
   ]
  },
  {
   "cell_type": "markdown",
   "metadata": {},
   "source": [
    "## 1.2. Tuples\n",
    "A tuple is a type of sequence that resembles a list, except that, unlike a list, a tuple is immutable (can't be changed). A tuple literal in Python is enclosed in parentheses."
   ]
  },
  {
   "cell_type": "code",
   "execution_count": null,
   "metadata": {},
   "outputs": [],
   "source": [
    "warehouse=('Chicago','Philadelphia','San Jose')"
   ]
  },
  {
   "cell_type": "markdown",
   "metadata": {},
   "source": [
    "## 1.3. Dictionary \n",
    "Dictionaries are Python’s implementation of a data structure that is more generally known as an associative array. A dictionary consists of a collection of key-value pairs (entries). Each key-value pair maps the key to its associated value.\n",
    "\n",
    "A dictionary in Python is a comma-separated list of key-value pairs in curly braces {}. A colon (:) separates each key from its associated value:\n",
    "```\n",
    "d = {<key>: <value>,<key>: <value>,..., <key>:<value>}\n",
    "```"
   ]
  },
  {
   "cell_type": "code",
   "execution_count": null,
   "metadata": {},
   "outputs": [],
   "source": [
    "tel = {\"Savannah\":\"476-3321\", \"Nathaniel\":\"351-7743\"}"
   ]
  },
  {
   "cell_type": "code",
   "execution_count": null,
   "metadata": {},
   "outputs": [],
   "source": [
    "info = {'name': 'Molly', 'age': 25}"
   ]
  },
  {
   "cell_type": "code",
   "execution_count": null,
   "metadata": {},
   "outputs": [],
   "source": [
    "info['job'] = \"Analyst\"\n",
    "info"
   ]
  },
  {
   "cell_type": "code",
   "execution_count": null,
   "metadata": {},
   "outputs": [],
   "source": [
    "info['name']='Sally'\n",
    "info"
   ]
  },
  {
   "cell_type": "markdown",
   "metadata": {},
   "source": [
    "### 1.3.1. Common Dictionary Operations\n",
    "\n",
    "* `d[<key>]`: Used for inserting a new key, replacing a value, or obtaining a value at an existing key. \n",
    "*  `d.pop(key [, default])` removes the key and returns the value if the key exists or returns the default if the key does not exist. Raises an error if the default is omitted and the key does not exist.\n",
    "* Use `for` and `in` operators to traverse a dictionary. \n"
   ]
  },
  {
   "cell_type": "code",
   "execution_count": null,
   "metadata": {},
   "outputs": [],
   "source": [
    "info.pop('name')\n",
    "info"
   ]
  },
  {
   "cell_type": "code",
   "execution_count": null,
   "metadata": {
    "scrolled": false
   },
   "outputs": [],
   "source": [
    "# traverse a dictionary\n",
    "for key in info:\n",
    "    print(key,':', info[key])"
   ]
  },
  {
   "cell_type": "markdown",
   "metadata": {},
   "source": [
    "### 1.3.2. Other Dictionary Operations\n",
    "\n",
    "* `len(d)`: Returns the number of entries in d.\n",
    "* `d.get(key [, default])`: Returns the value if the key exists or returns the default if the key does not exist. Raises an error if the default is omitted and the key does not exist.\n",
    "* `list(d.keys())`: Returns a list of the keys.\n",
    "* `list(d.values())`:Returns a list of the values. \n",
    "* `d.clear()`: Removes all entries from a dictionary."
   ]
  },
  {
   "cell_type": "code",
   "execution_count": null,
   "metadata": {},
   "outputs": [],
   "source": [
    "list(info.keys())"
   ]
  },
  {
   "cell_type": "code",
   "execution_count": null,
   "metadata": {},
   "outputs": [],
   "source": [
    "list(info.values())"
   ]
  },
  {
   "cell_type": "code",
   "execution_count": null,
   "metadata": {},
   "outputs": [],
   "source": [
    "info.clear()\n",
    "info"
   ]
  }
 ],
 "metadata": {
  "kernelspec": {
   "display_name": "Python 3",
   "language": "python",
   "name": "python3"
  },
  "language_info": {
   "codemirror_mode": {
    "name": "ipython",
    "version": 3
   },
   "file_extension": ".py",
   "mimetype": "text/x-python",
   "name": "python",
   "nbconvert_exporter": "python",
   "pygments_lexer": "ipython3",
   "version": "3.7.4"
  }
 },
 "nbformat": 4,
 "nbformat_minor": 2
}
