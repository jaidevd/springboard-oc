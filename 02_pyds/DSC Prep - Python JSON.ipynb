{
 "cells": [
  {
   "cell_type": "markdown",
   "metadata": {},
   "source": [
    "# Python JSON\n",
    "\n",
    "\n",
    "JSON (JavaScript Object Notation) is a popular data format used for representing structured data. It's common to transmit and receive data between a server and web application in JSON format.\n",
    "\n",
    "In Python, JSON exists as a string.\n",
    "It's also common to store a JSON object in a file."
   ]
  },
  {
   "cell_type": "code",
   "execution_count": null,
   "metadata": {},
   "outputs": [],
   "source": [
    "import json"
   ]
  },
  {
   "cell_type": "markdown",
   "metadata": {},
   "source": [
    "Example 1: Python JSON to dict\n",
    "You can parse a JSON string using json.loads() method. The method returns a dictionary.\n",
    "Here, person is a JSON string, and person_dict is a dictionary."
   ]
  },
  {
   "cell_type": "code",
   "execution_count": null,
   "metadata": {},
   "outputs": [],
   "source": [
    "import json\n",
    "\n",
    "person = '{\"name\": \"Bob\", \"languages\": [\"English\", \"Fench\"]}'\n",
    "person_dict = json.loads(person)\n",
    "\n",
    "# Output: {'name': 'Bob', 'languages': ['English', 'Fench']}\n",
    "print( person_dict)\n",
    "\n",
    "# Output: ['English', 'French']\n",
    "print(person_dict['languages'])"
   ]
  },
  {
   "cell_type": "markdown",
   "metadata": {},
   "source": [
    "Example 2: Python read JSON file\n",
    "You can use json.load() method to read a file containing JSON object.\n",
    "\n",
    "Suppose, you have a file named person.json which contains a JSON object.\n",
    "\n",
    "Here, we have used the open() function to read the json file. Then, the file is parsed using json.load() method which gives us a dictionary named data."
   ]
  },
  {
   "cell_type": "code",
   "execution_count": null,
   "metadata": {},
   "outputs": [],
   "source": [
    "{\"name\": \"Bob\", \n",
    "\"languages\": [\"English\", \"Fench\"]\n",
    "}\n",
    "\n",
    "import json\n",
    "\n",
    "with open('path_to_file/person.json') as f:\n",
    "  data = json.load(f)\n",
    "\n",
    "# Output: {'name': 'Bob', 'languages': ['English', 'Fench']}\n",
    "print(data)"
   ]
  },
  {
   "cell_type": "markdown",
   "metadata": {},
   "source": [
    "Example 3: Convert dict to JSON\n",
    "\n",
    "Here's a table showing Python objects and their equivalent conversion to JSON.\n",
    "\n",
    "\n",
    "Python\tJSON Equivalent\n",
    "dict\tobject\n",
    "list, tuple\tarray\n",
    "str\tstring\n",
    "int, float, int\tnumber\n",
    "True\ttrue\n",
    "False\tfalse\n",
    "None\tnull"
   ]
  },
  {
   "cell_type": "code",
   "execution_count": null,
   "metadata": {},
   "outputs": [],
   "source": [
    "import json\n",
    "\n",
    "person_dict = {'name': 'Bob',\n",
    "'age': 12,\n",
    "'children': None\n",
    "}\n",
    "person_json = json.dumps(person_dict)\n",
    "\n",
    "# Output: {\"name\": \"Bob\", \"age\": 12, \"children\": null}\n",
    "print(person_json)"
   ]
  },
  {
   "cell_type": "markdown",
   "metadata": {},
   "source": [
    "Example 4: Writing JSON to a file\n",
    "\n",
    "\n",
    "In this program, we will opened a file named person.txt in writing mode using 'w'. If the file doesn't already exist, it will be created. Then, json.dump() transforms person_dict to a JSON string which will be saved in the person.txt file.\n",
    "\n"
   ]
  },
  {
   "cell_type": "code",
   "execution_count": null,
   "metadata": {},
   "outputs": [],
   "source": [
    "\n",
    "import json\n",
    "\n",
    "person_dict = {\"name\": \"Bob\",\n",
    "\"languages\": [\"English\", \"Fench\"],\n",
    "\"married\": True,\n",
    "\"age\": 32\n",
    "}\n",
    "\n",
    "with open('person.txt', 'w') as json_file:\n",
    "  json.dump(person_dict, json_file)\n",
    "\n",
    "\n",
    "#When you run the program, the person.txt file will be created. The file has following text inside it.\n",
    "#{\"name\": \"Bob\", \"languages\": [\"English\", \"Fench\"], \"married\": true, \"age\": 32}"
   ]
  },
  {
   "cell_type": "markdown",
   "metadata": {},
   "source": [
    "Example 5: Python pretty print JSON\n",
    "\n",
    "In the Below program, we have used 4 spaces for indentation. And, the keys are sorted in ascending order.\n",
    "\n",
    "By the way, the default value of indent is None. And, the default value of sort_keys is False."
   ]
  },
  {
   "cell_type": "code",
   "execution_count": null,
   "metadata": {},
   "outputs": [],
   "source": [
    "import json\n",
    "\n",
    "person_string = '{\"name\": \"Bob\", \"languages\": \"English\", \"numbers\": [2, 1.6, null]}'\n",
    "\n",
    "# Getting dictionary\n",
    "person_dict = json.loads(person_string)\n",
    "\n",
    "# Pretty Printing JSON string back\n",
    "print(json.dumps(person_dict, indent = 4, sort_keys=True))\n",
    "\n",
    "\n",
    "#When you run the program, the output will be:\n",
    "\n",
    "\n",
    "#{\n",
    " #   \"languages\": \"English\",\n",
    "  #  \"name\": \"Bob\",\n",
    "   # \"numbers\": [\n",
    "    #    2,\n",
    "     #   1.6,\n",
    "      #  null\n",
    "    #]\n",
    "#}"
   ]
  }
 ],
 "metadata": {
  "kernelspec": {
   "display_name": "Python 3",
   "language": "python",
   "name": "python3"
  },
  "language_info": {
   "codemirror_mode": {
    "name": "ipython",
    "version": 3
   },
   "file_extension": ".py",
   "mimetype": "text/x-python",
   "name": "python",
   "nbconvert_exporter": "python",
   "pygments_lexer": "ipython3",
   "version": "3.7.4"
  }
 },
 "nbformat": 4,
 "nbformat_minor": 2
}
